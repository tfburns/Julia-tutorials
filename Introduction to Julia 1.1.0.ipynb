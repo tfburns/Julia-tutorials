{
 "cells": [
  {
   "cell_type": "markdown",
   "metadata": {},
   "source": [
    "# Introduction to Julia 1.1.0 (tutorial notes)\n",
    "Notes from following Derek Banas' [Julia tutorial](https://www.youtube.com/watch?v=sE67bP2PnOo) which attempts to condense Ivo Balbaert's [_Getting started with Julia Programming Language_](https://dl.acm.org/citation.cfm?id=2800314) material into a single, hour-long video. The following notes are extended beyond the video's content based on the official Julia 1.1.0 documentation and playing around in Jupyter Notebooks."
   ]
  },
  {
   "cell_type": "code",
   "execution_count": 5,
   "metadata": {},
   "outputs": [],
   "source": [
    "# import modules like so\n",
    "using Printf\n",
    "using Statistics"
   ]
  },
  {
   "cell_type": "code",
   "execution_count": null,
   "metadata": {},
   "outputs": [],
   "source": [
    "# to install a module, just use Pkg:\n",
    "# using Pkg\n",
    "# Pkg.add(\"PacakageNameToAdd\")"
   ]
  },
  {
   "cell_type": "markdown",
   "metadata": {},
   "source": [
    "#### Printing"
   ]
  },
  {
   "cell_type": "code",
   "execution_count": 6,
   "metadata": {},
   "outputs": [
    {
     "data": {
      "text/plain": [
       "\"Hello World!\""
      ]
     },
     "execution_count": 6,
     "metadata": {},
     "output_type": "execute_result"
    }
   ],
   "source": [
    "x = \"Hello World!\""
   ]
  },
  {
   "cell_type": "code",
   "execution_count": 7,
   "metadata": {},
   "outputs": [
    {
     "name": "stdout",
     "output_type": "stream",
     "text": [
      "Hello World!Hello World!"
     ]
    }
   ],
   "source": [
    "# print() will print variables end-to-end\n",
    "print(x)\n",
    "print(x)"
   ]
  },
  {
   "cell_type": "code",
   "execution_count": 8,
   "metadata": {},
   "outputs": [
    {
     "name": "stdout",
     "output_type": "stream",
     "text": [
      "Hello World!\n",
      "Hello World!\n"
     ]
    }
   ],
   "source": [
    "# println() will print variables on seperate lines\n",
    "println(x)\n",
    "println(x)"
   ]
  },
  {
   "cell_type": "markdown",
   "metadata": {},
   "source": [
    "#### Variables and casting"
   ]
  },
  {
   "cell_type": "code",
   "execution_count": 9,
   "metadata": {},
   "outputs": [
    {
     "name": "stdout",
     "output_type": "stream",
     "text": [
      "Dog\n"
     ]
    }
   ],
   "source": [
    "# we can assign and reassign variable values and Julia will automatically change the data type\n",
    "s = 0\n",
    "s = \"Dog\"\n",
    "println(s)"
   ]
  },
  {
   "cell_type": "code",
   "execution_count": 10,
   "metadata": {},
   "outputs": [
    {
     "ename": "MethodError",
     "evalue": "MethodError: Cannot `convert` an object of type String to an object of type Int8\nClosest candidates are:\n  convert(::Type{T<:Number}, !Matched::T<:Number) where T<:Number at number.jl:6\n  convert(::Type{T<:Number}, !Matched::Number) where T<:Number at number.jl:7\n  convert(::Type{T<:Integer}, !Matched::Ptr) where T<:Integer at pointer.jl:23\n  ...",
     "output_type": "error",
     "traceback": [
      "MethodError: Cannot `convert` an object of type String to an object of type Int8\nClosest candidates are:\n  convert(::Type{T<:Number}, !Matched::T<:Number) where T<:Number at number.jl:6\n  convert(::Type{T<:Number}, !Matched::Number) where T<:Number at number.jl:7\n  convert(::Type{T<:Integer}, !Matched::Ptr) where T<:Integer at pointer.jl:23\n  ...",
      "",
      "Stacktrace:",
      " [1] changeNum() at .\\In[10]:4",
      " [2] top-level scope at In[10]:6"
     ]
    }
   ],
   "source": [
    "# however if we assert a data type, e.g. int8 below, we get a MethodError for using the wrong type\n",
    "function changeNum()\n",
    "    x::Int8 = 10\n",
    "    x = \"Dog\"\n",
    "end\n",
    "\n",
    "changeNum()"
   ]
  },
  {
   "cell_type": "code",
   "execution_count": 11,
   "metadata": {},
   "outputs": [
    {
     "data": {
      "text/plain": [
       "true"
      ]
     },
     "execution_count": 11,
     "metadata": {},
     "output_type": "execute_result"
    }
   ],
   "source": [
    "# Boolean values can be declared directly like so\n",
    "isThisTrue = true"
   ]
  },
  {
   "cell_type": "code",
   "execution_count": 12,
   "metadata": {},
   "outputs": [
    {
     "name": "stdout",
     "output_type": "stream",
     "text": [
      "3\n",
      "1.0\n",
      "1\n"
     ]
    }
   ],
   "source": [
    "# we may cast between different types\n",
    "i1 = Int(3.0) # e.g. float to int\n",
    "println(i1)\n",
    "\n",
    "f1 = parse(Float64, \"1\") # e.g. string to float\n",
    "println(f1)\n",
    "\n",
    "i2 = parse(Int8, \"1\") # e.g. string to int\n",
    "println(i2)"
   ]
  },
  {
   "cell_type": "markdown",
   "metadata": {},
   "source": [
    "#### Floats and float precision"
   ]
  },
  {
   "cell_type": "code",
   "execution_count": 13,
   "metadata": {},
   "outputs": [
    {
     "name": "stdout",
     "output_type": "stream",
     "text": [
      "a + b = 1.222222222222222 (actual answer)\n",
      "a + b = 1.2222222222222219 (default precision)\n",
      "a + b = 1.22222222222222 (default precision rounded to 14 digits)\n",
      "a + b = 1.222222222222222000000000000000000000000000000000000000000000000000000000000008 (BigFloat precision)\n"
     ]
    }
   ],
   "source": [
    "# floats have default precision to ~14 decimal places\n",
    "a = 1.111111111111111\n",
    "b = 0.111111111111111\n",
    "# a and b have 15 decimal places\n",
    "# a + b = 1.22222222222222222222, however due to float imprecision,\n",
    "# the computed value will be slightly wrong at the 15th decimal place\n",
    "println(\"a + b = 1.222222222222222 (actual answer)\")\n",
    "println(\"a + b = \", a + b, \" (default precision)\")\n",
    "\n",
    "# you can also round floats to a certain number of digits\n",
    "ab = round(a + b; digits=14)\n",
    "println(\"a + b = \", ab, \" (default precision rounded to 14 digits)\")\n",
    "\n",
    "# for higher float precision, we can parse use BigFloat\n",
    "aPrecise = parse(BigFloat, string(a))\n",
    "bPrecise = parse(BigFloat, string(b))\n",
    "println(\"a + b = \", aPrecise + bPrecise, \" (BigFloat precision)\")"
   ]
  },
  {
   "cell_type": "markdown",
   "metadata": {},
   "source": [
    "#### Characters and strings"
   ]
  },
  {
   "cell_type": "code",
   "execution_count": 14,
   "metadata": {},
   "outputs": [
    {
     "name": "stdout",
     "output_type": "stream",
     "text": [
      "c\n",
      "c\n",
      "c\n"
     ]
    }
   ],
   "source": [
    "# we can store individual characters as ASCII/Unicode\n",
    "c1 = 'c' # directly, by typing the character surrounded by single quotes\n",
    "c2 = Char(0x0063) # using the ASCII code in hexadecimal form\n",
    "c3 = Char(99) # or by using the ASCII code in decimal form\n",
    "println(c1)\n",
    "println(c2)\n",
    "println(c3)"
   ]
  },
  {
   "cell_type": "code",
   "execution_count": 15,
   "metadata": {},
   "outputs": [
    {
     "name": "stdout",
     "output_type": "stream",
     "text": [
      "string across a single line\n",
      "string\n",
      "across\n",
      "multiple\n",
      "lines\n"
     ]
    }
   ],
   "source": [
    "# strings can be defined using double quotes\n",
    "s1 = \"string across a single line\" \n",
    "s2 = \"string\\nacross\\nmultiple\\nlines\" # where \"\\n\" is for a new line\n",
    "println(s1)\n",
    "println(s2)"
   ]
  },
  {
   "cell_type": "code",
   "execution_count": 16,
   "metadata": {},
   "outputs": [
    {
     "name": "stdout",
     "output_type": "stream",
     "text": [
      "s\n",
      "e\n",
      "stri\n"
     ]
    }
   ],
   "source": [
    "# we can index strings\n",
    "println(s1[1]) # N.B. Julia indexing begins at 1\n",
    "println(s1[end])\n",
    "println(s1[1:4])"
   ]
  },
  {
   "cell_type": "code",
   "execution_count": 17,
   "metadata": {},
   "outputs": [
    {
     "name": "stdout",
     "output_type": "stream",
     "text": [
      "string across a single linestring\n",
      "across\n",
      "multiple\n",
      "lines\n",
      "string across a single linestring\n",
      "across\n",
      "multiple\n",
      "lines\n"
     ]
    }
   ],
   "source": [
    "# we can concatenate strings\n",
    "println(string(s1, s2)) # by using string()\n",
    "println(s1 * s2) # or by the \"*\" operation"
   ]
  },
  {
   "cell_type": "code",
   "execution_count": 18,
   "metadata": {},
   "outputs": [
    {
     "name": "stdout",
     "output_type": "stream",
     "text": [
      "2 + 3 = 5"
     ]
    }
   ],
   "source": [
    "# we can insert numbers into strings directly by prepending with \"$\"\n",
    "# and perform in-string arithmetic by \"$(a + b)\"\n",
    "i3 = 2\n",
    "i4 = 3\n",
    "print(\"$i3 + $i4 = $(i3 + i4)\")"
   ]
  },
  {
   "cell_type": "code",
   "execution_count": 19,
   "metadata": {},
   "outputs": [
    {
     "data": {
      "text/plain": [
       "\"string\\nacross\\nmultiple\\nlines\""
      ]
     },
     "execution_count": 19,
     "metadata": {},
     "output_type": "execute_result"
    }
   ],
   "source": [
    "# multi-line strings can be declared using \"\"\"\n",
    "s3 = \"\"\"string\n",
    "across\n",
    "multiple\n",
    "lines\"\"\""
   ]
  },
  {
   "cell_type": "code",
   "execution_count": 20,
   "metadata": {},
   "outputs": [
    {
     "name": "stdout",
     "output_type": "stream",
     "text": [
      "3\n",
      "true\n"
     ]
    }
   ],
   "source": [
    "println(findfirst(isequal('i'), \"Keigo\")) # find index of first character equal to 'i'\n",
    "println(occursin(\"key\", \"monkey\")) # evaluate whether the first string is an ordered subset of the second"
   ]
  },
  {
   "cell_type": "markdown",
   "metadata": {},
   "source": [
    "#### Conditional statements"
   ]
  },
  {
   "cell_type": "code",
   "execution_count": 21,
   "metadata": {},
   "outputs": [
    {
     "name": "stdout",
     "output_type": "stream",
     "text": [
      "true\n"
     ]
    }
   ],
   "source": [
    "# the multi-line strings used above are equivalent to using the \"\\n\" notation\n",
    "println(s3 == s2) # \"==\" is a truth evaluation of equivalency"
   ]
  },
  {
   "cell_type": "code",
   "execution_count": 22,
   "metadata": {
    "scrolled": true
   },
   "outputs": [
    {
     "name": "stdout",
     "output_type": "stream",
     "text": [
      "false\n",
      "true\n"
     ]
    }
   ],
   "source": [
    "# some other truth evaluations on strings\n",
    "println(\"abc\" > \"abcd\") # test for lexicographical order\n",
    "println(\"abc\" > \"abb\")"
   ]
  },
  {
   "cell_type": "code",
   "execution_count": 23,
   "metadata": {},
   "outputs": [
    {
     "name": "stdout",
     "output_type": "stream",
     "text": [
      "High school student\n"
     ]
    }
   ],
   "source": [
    "# conditional statements\n",
    "age = 15\n",
    "\n",
    "if age >= 3 && age <= 4\n",
    "    println(\"Kingergartener\")\n",
    "elseif age >= 5 && age <= 12\n",
    "    println(\"Primary school student\")\n",
    "elseif age >=13 && age <= 18\n",
    "    println(\"High school student\")\n",
    "else\n",
    "    println(\"Not school-aged\")\n",
    "    end # we must always end in Julia!"
   ]
  },
  {
   "cell_type": "code",
   "execution_count": 24,
   "metadata": {},
   "outputs": [
    {
     "name": "stdout",
     "output_type": "stream",
     "text": [
      "true || false = true\n",
      "!true = false\n"
     ]
    }
   ],
   "source": [
    "# for inline conditionals, we can use the ternary operator\n",
    "# such operators hav the form \"[evaluation] ? [string to print if true] : [string to print if false]\"\n",
    "@printf(\"true || false = %s\\n\", true || false ? \"true\" : \"false\") # true OR false = true\n",
    "@printf(\"!true = %s\\n\", !true ? \"true\" : \"false\") # NOT true = false"
   ]
  },
  {
   "cell_type": "markdown",
   "metadata": {},
   "source": [
    "#### Loops"
   ]
  },
  {
   "cell_type": "code",
   "execution_count": 45,
   "metadata": {},
   "outputs": [
    {
     "name": "stdout",
     "output_type": "stream",
     "text": [
      "2\n",
      "4\n",
      "6\n",
      "8\n"
     ]
    }
   ],
   "source": [
    "# we can continue looping over code using a while condition for some global variable, in this case i\n",
    "# we will initiate i at 1\n",
    "i = 1\n",
    "\n",
    "# this loop will print all even numbers i in the range of (1,10)\n",
    "while i < 20\n",
    "    if (i % 2) == 0 # % is the modulo operator, so this case is true if i is even\n",
    "        println(i)\n",
    "        global i += 1   # since i was created outside of this loop, it lives in the global workspace\n",
    "                        # to update i, we therefore need to use \"global i\" \n",
    "        continue # continues to the next iteration of the loop\n",
    "    end\n",
    " \n",
    "    global i += 1\n",
    " \n",
    "    if i >= 10\n",
    "        break # breaks out of the loop\n",
    "    end\n",
    "end"
   ]
  },
  {
   "cell_type": "code",
   "execution_count": 44,
   "metadata": {},
   "outputs": [
    {
     "name": "stdout",
     "output_type": "stream",
     "text": [
      "-1\n",
      "0\n",
      "1\n",
      "2\n",
      "3\n",
      "4\n",
      "5\n"
     ]
    }
   ],
   "source": [
    "# we can iterate over a range, e.g. 1:5, treating each i as an integer in that range\n",
    "for i = -1:5\n",
    "    println(i)\n",
    "end"
   ]
  },
  {
   "cell_type": "code",
   "execution_count": 51,
   "metadata": {},
   "outputs": [
    {
     "name": "stdout",
     "output_type": "stream",
     "text": [
      "(1, 2)\n",
      "(1, 4)\n",
      "(1, 6)\n",
      "(1, 8)\n",
      "(1, 10)\n",
      "(2, 2)\n",
      "(2, 4)\n",
      "(2, 6)\n",
      "(2, 8)\n",
      "(2, 10)\n",
      "(3, 2)\n",
      "(3, 4)\n",
      "(3, 6)\n",
      "(3, 8)\n",
      "(3, 10)\n",
      "(4, 2)\n",
      "(4, 4)\n",
      "(4, 6)\n",
      "(4, 8)\n",
      "(4, 10)\n",
      "(5, 2)\n",
      "(5, 4)\n",
      "(5, 6)\n",
      "(5, 8)\n",
      "(5, 10)\n"
     ]
    }
   ],
   "source": [
    "# we can nest loops within each other\n",
    "for i = 1:5\n",
    "    for j = 2:2:10\n",
    "        println((i, j))\n",
    "    end\n",
    "end"
   ]
  },
  {
   "cell_type": "code",
   "execution_count": 52,
   "metadata": {},
   "outputs": [
    {
     "name": "stdout",
     "output_type": "stream",
     "text": [
      "(1, 2)\n",
      "(1, 4)\n",
      "(1, 6)\n",
      "(1, 8)\n",
      "(1, 10)\n",
      "(2, 2)\n",
      "(2, 4)\n",
      "(2, 6)\n",
      "(2, 8)\n",
      "(2, 10)\n",
      "(3, 2)\n",
      "(3, 4)\n",
      "(3, 6)\n",
      "(3, 8)\n",
      "(3, 10)\n",
      "(4, 2)\n",
      "(4, 4)\n",
      "(4, 6)\n",
      "(4, 8)\n",
      "(4, 10)\n",
      "(5, 2)\n",
      "(5, 4)\n",
      "(5, 6)\n",
      "(5, 8)\n",
      "(5, 10)\n"
     ]
    }
   ],
   "source": [
    "# nested loops can also be written like this (the order of ranges goes from outermost to innermost)\n",
    "for i = 1:5, j = 2:2:10\n",
    "    println((i, j))\n",
    "end"
   ]
  },
  {
   "cell_type": "code",
   "execution_count": 53,
   "metadata": {},
   "outputs": [
    {
     "name": "stdout",
     "output_type": "stream",
     "text": [
      "3\n",
      "two\n",
      "6.7\n"
     ]
    }
   ],
   "source": [
    "# we can iterate over an array, treating each i as the ordered value of that array\n",
    "for i in [3,\"two\",6.7]\n",
    "    println(i)\n",
    "end"
   ]
  },
  {
   "cell_type": "markdown",
   "metadata": {},
   "source": [
    "#### Arrays"
   ]
  },
  {
   "cell_type": "code",
   "execution_count": 56,
   "metadata": {},
   "outputs": [
    {
     "name": "stdout",
     "output_type": "stream",
     "text": [
      "1\n"
     ]
    }
   ],
   "source": [
    "# create an array of zeros\n",
    "a1 = zeros(Int32, 2, 2) # create a 2x2 array of int32 numbers\n",
    "\n",
    "# create an empty array of Int32s with 5 spaces\n",
    "a2 = Array{Int32}(undef, 5) \n",
    "\n",
    "# Or like this\n",
    "a3 = Float64[]\n",
    "\n",
    "# Create a 1D array with the following values\n",
    "a4 = [1,2,3]\n",
    "\n",
    "# get a value at index\n",
    "println(a4[1])"
   ]
  },
  {
   "cell_type": "code",
   "execution_count": 57,
   "metadata": {},
   "outputs": [
    {
     "name": "stdout",
     "output_type": "stream",
     "text": [
      "3\n"
     ]
    }
   ],
   "source": [
    "# get the last index's value\n",
    "println(a4[end])"
   ]
  },
  {
   "cell_type": "code",
   "execution_count": 58,
   "metadata": {},
   "outputs": [
    {
     "name": "stdout",
     "output_type": "stream",
     "text": [
      "false\n"
     ]
    }
   ],
   "source": [
    "# evaluate if a value exists in an array\n",
    "println(5 in a4)"
   ]
  },
  {
   "cell_type": "code",
   "execution_count": 60,
   "metadata": {},
   "outputs": [
    {
     "name": "stdout",
     "output_type": "stream",
     "text": [
      "2\n"
     ]
    }
   ],
   "source": [
    "# find the index of the 1st-appearing value equal to 2 in the array a4\n",
    "println(findfirst(isequal(2), a4))"
   ]
  },
  {
   "cell_type": "code",
   "execution_count": 61,
   "metadata": {},
   "outputs": [
    {
     "name": "stdout",
     "output_type": "stream",
     "text": [
      "[2, 3]\n"
     ]
    }
   ],
   "source": [
    "# Find all matches using a generic function\n",
    "f(a) = (a >= 2) ? true : false\n",
    "println(findall(f, a4))"
   ]
  },
  {
   "cell_type": "code",
   "execution_count": 62,
   "metadata": {},
   "outputs": [
    {
     "name": "stdout",
     "output_type": "stream",
     "text": [
      "2\n"
     ]
    }
   ],
   "source": [
    "# How many items pass the test\n",
    "println(count(f, a4))"
   ]
  },
  {
   "cell_type": "code",
   "execution_count": 63,
   "metadata": {},
   "outputs": [
    {
     "name": "stdout",
     "output_type": "stream",
     "text": [
      "(3,)\n"
     ]
    }
   ],
   "source": [
    "# Get row and column size\n",
    "println(size(a4))"
   ]
  },
  {
   "cell_type": "code",
   "execution_count": 64,
   "metadata": {},
   "outputs": [
    {
     "name": "stdout",
     "output_type": "stream",
     "text": [
      "3\n"
     ]
    }
   ],
   "source": [
    "# Get number of elements\n",
    "println(length(a4))"
   ]
  },
  {
   "cell_type": "code",
   "execution_count": 65,
   "metadata": {},
   "outputs": [
    {
     "name": "stdout",
     "output_type": "stream",
     "text": [
      "6\n"
     ]
    }
   ],
   "source": [
    "# Sum values\n",
    "println(sum(a4))"
   ]
  },
  {
   "cell_type": "code",
   "execution_count": 66,
   "metadata": {},
   "outputs": [
    {
     "name": "stdout",
     "output_type": "stream",
     "text": [
      "[1, 8, 9, 2, 3]\n"
     ]
    }
   ],
   "source": [
    "# Put values starting at 2nd index\n",
    "splice!(a4, 2:1, [8,9])\n",
    "println(a4)"
   ]
  },
  {
   "cell_type": "code",
   "execution_count": 67,
   "metadata": {},
   "outputs": [
    {
     "name": "stdout",
     "output_type": "stream",
     "text": [
      "[1, 2, 3]\n"
     ]
    }
   ],
   "source": [
    "# Remove items at index 2 through 3\n",
    "splice!(a4, 2:3)\n",
    "println(a4)"
   ]
  },
  {
   "cell_type": "code",
   "execution_count": 68,
   "metadata": {},
   "outputs": [
    {
     "name": "stdout",
     "output_type": "stream",
     "text": [
      "3\n",
      "1\n"
     ]
    }
   ],
   "source": [
    "# Get max & min value\n",
    "println(maximum(a4))\n",
    "println(minimum(a4))"
   ]
  },
  {
   "cell_type": "code",
   "execution_count": 69,
   "metadata": {},
   "outputs": [
    {
     "name": "stdout",
     "output_type": "stream",
     "text": [
      "[2, 4, 6]\n"
     ]
    }
   ],
   "source": [
    "# Perform calculations on an array without looping\n",
    "println(a4 * 2)"
   ]
  },
  {
   "cell_type": "code",
   "execution_count": 70,
   "metadata": {},
   "outputs": [
    {
     "name": "stdout",
     "output_type": "stream",
     "text": [
      "0.0\n",
      "1.0\n",
      "0.0\n"
     ]
    }
   ],
   "source": [
    "# You can use multiple types or Any\n",
    "a5 = [1,3.14,\"Hello\"]\n",
    "\n",
    "# You can store functions\n",
    "a6 = [sin, cos, tan]\n",
    "for n in a6\n",
    "    println(n(0))\n",
    "end"
   ]
  },
  {
   "cell_type": "code",
   "execution_count": 71,
   "metadata": {},
   "outputs": [
    {
     "name": "stdout",
     "output_type": "stream",
     "text": [
      "1 2 3 4 5 6 \n"
     ]
    }
   ],
   "source": [
    "# Multidimensional array\n",
    "a7 = [1 2 3; 4 5 6]\n",
    "for n = 1:2, m = 1:3\n",
    "    @printf(\"%d \", a7[n,m])\n",
    "end\n",
    "println()"
   ]
  },
  {
   "cell_type": "code",
   "execution_count": 72,
   "metadata": {},
   "outputs": [
    {
     "name": "stdout",
     "output_type": "stream",
     "text": [
      "[2, 5]\n"
     ]
    }
   ],
   "source": [
    "# Get every row in the 2nd column\n",
    "println(a7[:, 2])"
   ]
  },
  {
   "cell_type": "code",
   "execution_count": 73,
   "metadata": {},
   "outputs": [
    {
     "name": "stdout",
     "output_type": "stream",
     "text": [
      "[4, 5, 6]\n"
     ]
    }
   ],
   "source": [
    "# Every row 2nd column\n",
    "println(a7[2, :])"
   ]
  },
  {
   "cell_type": "code",
   "execution_count": 74,
   "metadata": {},
   "outputs": [
    {
     "data": {
      "text/plain": [
       "5-element Array{Int64,1}:\n",
       " 1\n",
       " 2\n",
       " 3\n",
       " 4\n",
       " 5"
      ]
     },
     "execution_count": 74,
     "metadata": {},
     "output_type": "execute_result"
    }
   ],
   "source": [
    "# Array from a range\n",
    "a8 = collect(1:5)"
   ]
  },
  {
   "cell_type": "code",
   "execution_count": 75,
   "metadata": {},
   "outputs": [
    {
     "name": "stdout",
     "output_type": "stream",
     "text": [
      "246810\n"
     ]
    }
   ],
   "source": [
    "# Range with a step (step is 2nd value)\n",
    "# Or backward collect(4:-1:1)\n",
    "a9 = collect(2:2:10)\n",
    "for n in a9 print(n) end\n",
    "println()"
   ]
  },
  {
   "cell_type": "code",
   "execution_count": 76,
   "metadata": {},
   "outputs": [
    {
     "name": "stdout",
     "output_type": "stream",
     "text": [
      "[1, 4, 9, 16, 25, 36]\n"
     ]
    }
   ],
   "source": [
    "# Create an array with a comprehension\n",
    "a10 = [n^2 for n in 1:5]\n",
    "\n",
    "# Add value to array\n",
    "push!(a10, 36)\n",
    "println(a10)"
   ]
  },
  {
   "cell_type": "code",
   "execution_count": 77,
   "metadata": {},
   "outputs": [
    {
     "name": "stdout",
     "output_type": "stream",
     "text": [
      "[1 2 3 4 5; 2 4 6 8 10; 3 6 9 12 15; 4 8 12 16 20; 5 10 15 20 25]\n"
     ]
    }
   ],
   "source": [
    "# Create a multidimensional array\n",
    "a11 = [n * m for n in 1:5, m in 1:5]\n",
    "println(a11)"
   ]
  },
  {
   "cell_type": "code",
   "execution_count": 78,
   "metadata": {},
   "outputs": [
    {
     "name": "stdout",
     "output_type": "stream",
     "text": [
      "03128\n",
      "94176\n",
      "26105\n",
      "71701\n",
      "77528\n"
     ]
    }
   ],
   "source": [
    "# Generate a 5 by 5 random array with values between 0 - 9\n",
    "a12 = rand(0:9, 5, 5)\n",
    "for n = 1:5\n",
    "    for m = 1:5\n",
    "        print(a12[n, m])\n",
    "    end\n",
    "    println()\n",
    "end"
   ]
  },
  {
   "cell_type": "markdown",
   "metadata": {},
   "source": [
    "#### Tuples"
   ]
  },
  {
   "cell_type": "code",
   "execution_count": 27,
   "metadata": {},
   "outputs": [
    {
     "name": "stdout",
     "output_type": "stream",
     "text": [
      "(1, 2, 3, 4)\n",
      "1\n",
      "1\n",
      "2\n",
      "3\n",
      "4\n",
      "1\n",
      "(\"Sue\", 100)\n"
     ]
    }
   ],
   "source": [
    "# Most array functions work with Tuples except tuple\n",
    "# values cannot be changed\n",
    "t1 = (1,2,3,4)\n",
    "println(t1)\n",
    "\n",
    "# Get a value\n",
    "println(t1[1])\n",
    "\n",
    "# Get all\n",
    "for i in t1\n",
    "    println(i)\n",
    "end\n",
    "\n",
    "# Multidimensional tuple\n",
    "t2 = ((1,2), (3,4))\n",
    "println(t2[1][1])\n",
    "\n",
    "# Named tuple\n",
    "t3 = (sue = (\"Sue\", 100), paul = (\"Paul\", 23))\n",
    "println(t3.sue)"
   ]
  },
  {
   "cell_type": "markdown",
   "metadata": {},
   "source": [
    "#### Dictionaries"
   ]
  },
  {
   "cell_type": "code",
   "execution_count": 28,
   "metadata": {},
   "outputs": [
    {
     "name": "stdout",
     "output_type": "stream",
     "text": [
      "3.14\n",
      "false\n",
      "Base.Fix2{typeof(in),Pair{String,Float64}}(in, \"pi\" => 3.14)\n",
      "[\"golden\", \"e\"]\n",
      "[1.618, 2.718]\n",
      "\"golden\" => 1.618\n",
      "\"e\" => 2.718\n",
      "golden : 1.618\n",
      "e : 2.718\n"
     ]
    }
   ],
   "source": [
    "# Dictionaries are key value pairs where the key moust be\n",
    "# unique\n",
    "d1 = Dict(\"pi\"=>3.14, \"e\"=>2.718)\n",
    "\n",
    "# Get value\n",
    "println(d1[\"pi\"])\n",
    "\n",
    "# Add a kv\n",
    "d1[\"golden\"] = 1.618\n",
    "\n",
    "# Delete a kv\n",
    "delete!(d1, \"pi\")\n",
    "\n",
    "# Check if key exists\n",
    "println(haskey(d1, \"pi\"))\n",
    "\n",
    "# Check for key & value\n",
    "println(in((\"pi\"=>3.14)))\n",
    "\n",
    "# Display all keys\n",
    "println(keys(d1))\n",
    "\n",
    "# Display all values\n",
    "println(values(d1))\n",
    "\n",
    "# Display both\n",
    "for kv in d1\n",
    "    println(kv)\n",
    "end\n",
    "\n",
    "# Control display of kv\n",
    "for(key, value) in d1\n",
    "    println(key, \" : \", value)\n",
    "end"
   ]
  },
  {
   "cell_type": "markdown",
   "metadata": {},
   "source": [
    "#### Sets"
   ]
  },
  {
   "cell_type": "code",
   "execution_count": 29,
   "metadata": {},
   "outputs": [
    {
     "name": "stdout",
     "output_type": "stream",
     "text": [
      "Set([\"Pam\", \"Jim\"])\n",
      "false\n",
      "Set([\"Pam\", \"Stanley\", \"Jim\", \"Michael\", \"Meredith\"])\n",
      "Set(String[])\n",
      "Set([\"Pam\", \"Jim\", \"Michael\"])\n"
     ]
    }
   ],
   "source": [
    "# Sets are arrays with all unique values\n",
    "st1 = Set([\"Jim\", \"Pam\", \"Jim\"])\n",
    "println(st1)\n",
    "\n",
    "# Add a value\n",
    "push!(st1, \"Michael\")\n",
    "\n",
    "# Check for value\n",
    "println(in(\"Dwight\", st1))\n",
    "\n",
    "# Combine sets\n",
    "st2 = Set([\"Stanley\", \"Meredith\"])\n",
    "println(union(st1, st2))\n",
    "\n",
    "# Every item both sets have\n",
    "println(intersect(st1, st2))\n",
    "\n",
    "# Items in 1st, but not 2nd\n",
    "println(setdiff(st1, st2))"
   ]
  },
  {
   "cell_type": "markdown",
   "metadata": {},
   "source": [
    "#### Functions"
   ]
  },
  {
   "cell_type": "code",
   "execution_count": 30,
   "metadata": {},
   "outputs": [
    {
     "name": "stdout",
     "output_type": "stream",
     "text": [
      "1 + 2 = 3\n",
      "Can Vote\n",
      "5\n",
      "10\n",
      "10\n",
      "(5, 6)\n",
      "18\n",
      "5 + 4 = 9\n",
      "5 + 4 = 9\n"
     ]
    }
   ],
   "source": [
    "# This is a single expression function\n",
    "getSum(x,y) = x + y\n",
    "x, y = 1, 2\n",
    "@printf(\"%d + %d = %d\\n\", x, y, x+y)\n",
    "\n",
    "# Multiple expression functions\n",
    "# You can asign default values\n",
    "function canIVote(age=16)\n",
    "    if age > 18\n",
    "        println(\"Can Vote\")\n",
    "    else\n",
    "        println(\"Can't Vote\")\n",
    "    end\n",
    "end\n",
    "canIVote(43)\n",
    "\n",
    "# Arguments are pass by value\n",
    "v1 = 5\n",
    "function changeV1(v1)\n",
    "    v1 = 10\n",
    "end\n",
    "changeV1(v1)\n",
    "println(v1)\n",
    "\n",
    "# You can use globals inside functions\n",
    "function changeV12()\n",
    "    global v1 = 10\n",
    "end\n",
    "changeV12()\n",
    "println(v1)\n",
    "\n",
    "# Variable arguments\n",
    "function getSum2(args...)\n",
    "    sum = 0\n",
    "    for a in args\n",
    "        sum += a\n",
    "    end\n",
    "    println(sum)\n",
    "end\n",
    "getSum2(1,2,3,4)\n",
    "\n",
    "# Return multiple values\n",
    "function next2(val)\n",
    "    return (val + 1, val + 2)\n",
    "end\n",
    "println(next2(4))\n",
    "\n",
    "# Functions that return functions\n",
    "function makeMultiplier(num)\n",
    "    return function (x) return x * num end\n",
    "end\n",
    "\n",
    "mult3 = makeMultiplier(3)\n",
    "println(mult3(6))\n",
    "\n",
    "# Handle different types of arguments\n",
    "function getSum3(num1::Number, num2::Number)\n",
    "    return num1 + num2\n",
    "end\n",
    "\n",
    "function getSum3(num1::String, num2::String)\n",
    "    return parse(Int32, num1) + parse(Int32, num2)\n",
    "end\n",
    "\n",
    "f1 = parse(Float64,\"1\")\n",
    "\n",
    "println(\"5 + 4 = \", getSum3(5,4))\n",
    "println(\"5 + 4 = \", getSum3(\"5\",\"4\"))"
   ]
  },
  {
   "cell_type": "markdown",
   "metadata": {},
   "source": [
    "#### In-line aka 'anonymous' aka 'generic' functions"
   ]
  },
  {
   "cell_type": "code",
   "execution_count": 31,
   "metadata": {},
   "outputs": [
    {
     "name": "stdout",
     "output_type": "stream",
     "text": [
      "[1, 4, 9]\n",
      "[4, 6]\n",
      "5050\n",
      "string\n"
     ]
    }
   ],
   "source": [
    "# Functions with no name that are used inline\n",
    "# Map applies a function to each item\n",
    "v2 = map(x -> x * x, [1,2,3])\n",
    "println(v2)\n",
    "\n",
    "# Add arrays\n",
    "v3 = map((x,y) -> x + y, [1,2], [3,4])\n",
    "println(v3)\n",
    "\n",
    "# Reduce uses a function multiple times for 1 result\n",
    "v4 = reduce(+, 1:100)\n",
    "println(v4)\n",
    "\n",
    "# Get longest word in a sentence\n",
    "sentence = \"This is a string\"\n",
    "# Convert string to array\n",
    "sArray = split(sentence)\n",
    "longest = reduce((x, y) -> length(x) > length(y) ? x : y, sArray )\n",
    "println(longest)"
   ]
  },
  {
   "cell_type": "markdown",
   "metadata": {},
   "source": [
    "#### Mathematical expressions"
   ]
  },
  {
   "cell_type": "code",
   "execution_count": 32,
   "metadata": {},
   "outputs": [
    {
     "name": "stdout",
     "output_type": "stream",
     "text": [
      "5 + 4 = 9\n",
      "5 - 4 = 1\n",
      "5 * 4 = 20\n",
      "5 / 4 = 1\n",
      "5 % 4 = 1\n",
      "5 ^ 4 = 625\n",
      "round(3.5) = 4\n",
      "floor(3.5) = 3\n",
      "ceil(3.5) = 4\n",
      "abs(-3.5) = 4\n",
      "sqrt(100) = 10\n",
      "cbrt(100) = 5\n",
      "hypot(90,90) = 127\n",
      "exp(2) = 7\n",
      "log(100) = 5\n",
      "log2(100) = 7\n",
      "log10(100) = 2\n",
      "10\n",
      "[3, 6, 9]\n"
     ]
    }
   ],
   "source": [
    "@printf(\"5 + 4 = %d\\n\", (5 + 4))\n",
    "@printf(\"5 - 4 = %d\\n\", (5 - 4))\n",
    "@printf(\"5 * 4 = %d\\n\", (5 * 4))\n",
    "@printf(\"5 / 4 = %d\\n\", (5 / 4))\n",
    "println(\"5 % 4 = \", (5 % 4))\n",
    "@printf(\"5 ^ 4 = %d\\n\", (5 ^ 4))\n",
    "\n",
    "@printf(\"round(3.5) = %d\\n\", round(3.5))\n",
    "@printf(\"floor(3.5) = %d\\n\", floor(3.5))\n",
    "@printf(\"ceil(3.5) = %d\\n\", round(3.5))\n",
    "@printf(\"abs(-3.5) = %d\\n\", abs(-3.5))\n",
    "@printf(\"sqrt(100) = %d\\n\", sqrt(100))\n",
    "@printf(\"cbrt(100) = %d\\n\", cbrt(100))\n",
    "@printf(\"hypot(90,90) = %d\\n\", hypot(90,90))\n",
    "@printf(\"exp(2) = %d\\n\", exp(2))\n",
    "@printf(\"log(100) = %d\\n\", log(100))\n",
    "@printf(\"log2(100) = %d\\n\", log2(100))\n",
    "@printf(\"log10(100) = %d\\n\", log10(100))\n",
    "\n",
    "# Trig Functions : sin, cos, tan, cot, sec, csc\n",
    "# sinh, cosh, tanh, coth, sech, csch\n",
    "# asin, acos, atan, acot, asec, acsc\n",
    "# asinh, acosh, atanh, acoth, asech, acsch\n",
    "# sinc, cosc\n",
    "\n",
    "# Shortcuts available += -= *= /= ^=\n",
    "\n",
    "# You can imply multiplication without *\n",
    "x = 5\n",
    "println(2x)\n",
    "\n",
    "# Dot operators perform operations on arrays\n",
    "a13 = [1,2,3]\n",
    "println(a13 .* 3)"
   ]
  },
  {
   "cell_type": "markdown",
   "metadata": {},
   "source": [
    "#### Enumeration"
   ]
  },
  {
   "cell_type": "code",
   "execution_count": 33,
   "metadata": {},
   "outputs": [
    {
     "name": "stdout",
     "output_type": "stream",
     "text": [
      "green\n"
     ]
    }
   ],
   "source": [
    "@enum Color begin\n",
    "    red = 1\n",
    "    blue = 2\n",
    "    green = 3\n",
    "end\n",
    "\n",
    "favColor = green::Color\n",
    "println(favColor)"
   ]
  },
  {
   "cell_type": "markdown",
   "metadata": {},
   "source": [
    "#### Symbols"
   ]
  },
  {
   "cell_type": "code",
   "execution_count": 34,
   "metadata": {},
   "outputs": [
    {
     "name": "stdout",
     "output_type": "stream",
     "text": [
      "Derek\n",
      "3.14\n"
     ]
    }
   ],
   "source": [
    "# Symbols are immutable strings that represent\n",
    "# a variable as data\n",
    ":Derek\n",
    "println(:Derek)\n",
    "\n",
    "# They are commonly used as keys with dictionaries\n",
    "d2 = Dict(:pi=>3.14, :e=>2.718)\n",
    "println(d2[:pi])"
   ]
  },
  {
   "cell_type": "markdown",
   "metadata": {},
   "source": [
    "#### Structs"
   ]
  },
  {
   "cell_type": "code",
   "execution_count": 35,
   "metadata": {},
   "outputs": [
    {
     "name": "stdout",
     "output_type": "stream",
     "text": [
      "Bob Smith\n"
     ]
    }
   ],
   "source": [
    "# Structs are composite types, or a type that contains\n",
    "# many fields\n",
    "struct Customer\n",
    "    name::String\n",
    "    balance::Float32\n",
    "    id::Int\n",
    "end\n",
    "\n",
    "# Create a Customer object\n",
    "bob = Customer(\"Bob Smith\", 10.50, 123)\n",
    "println(bob.name)\n",
    "\n",
    "# Structs by default are immutable\n",
    "# ERROR bob.name = \"Sue Smith\"\n",
    "# You could change that with mutable struct Customer"
   ]
  },
  {
   "cell_type": "markdown",
   "metadata": {},
   "source": [
    "#### Abstract types"
   ]
  },
  {
   "cell_type": "code",
   "execution_count": 36,
   "metadata": {},
   "outputs": [
    {
     "name": "stdout",
     "output_type": "stream",
     "text": [
      "Bowser says Ruff\n",
      "Muffin says Meow\n"
     ]
    }
   ],
   "source": [
    "# Abstract types can't be instantiated like Structs\n",
    "# but they can have subtypes\n",
    "abstract type Animal end\n",
    "\n",
    "struct Dog <: Animal\n",
    "    name::String\n",
    "    bark::String\n",
    "end\n",
    "\n",
    "struct Cat <: Animal\n",
    "    name::String\n",
    "    meow::String\n",
    "end\n",
    "\n",
    "bowser = Dog(\"Bowser\", \"Ruff\")\n",
    "muffin = Cat(\"Muffin\", \"Meow\")\n",
    "\n",
    "function makeSound(animal::Dog)\n",
    "    println(\"$(animal.name) says $(animal.bark)\")\n",
    "end\n",
    "\n",
    "function makeSound(animal::Cat)\n",
    "    println(\"$(animal.name) says $(animal.meow)\")\n",
    "end\n",
    "\n",
    "makeSound(bowser)\n",
    "makeSound(muffin)"
   ]
  },
  {
   "cell_type": "markdown",
   "metadata": {},
   "source": [
    "#### Exception handling & user input"
   ]
  },
  {
   "cell_type": "code",
   "execution_count": 37,
   "metadata": {},
   "outputs": [
    {
     "name": "stdout",
     "output_type": "stream",
     "text": [
      "Enter a number stdin> 1\n",
      "Enter a number stdin> 2\n",
      "0.5\n"
     ]
    }
   ],
   "source": [
    "# Throw and handle errors\n",
    "print(\"Enter a number \")\n",
    "num1 = chomp(readline())\n",
    " \n",
    "print(\"Enter a number \")\n",
    "num2 = chomp(readline())\n",
    "\n",
    "try\n",
    "    val = (parse(Int32, num1)) / (parse(Int32, num2))\n",
    "    if (val == Inf)\n",
    "        error(\"Can't divide by zero\")\n",
    "    else\n",
    "        println(val)\n",
    "    end\n",
    "catch e\n",
    "    println(e)\n",
    "end"
   ]
  },
  {
   "cell_type": "markdown",
   "metadata": {},
   "source": [
    "#### Reading and writing files"
   ]
  },
  {
   "cell_type": "code",
   "execution_count": 80,
   "metadata": {},
   "outputs": [
    {
     "name": "stdout",
     "output_type": "stream",
     "text": [
      "Here is some random text\n",
      "It is great\n",
      "\n"
     ]
    }
   ],
   "source": [
    "# Open file for writing\n",
    "open(\"random.txt\", \"w\") do file\n",
    "    write(file, \"Here is some random text\\nIt is great\\n\")\n",
    "end\n",
    "\n",
    "# Open a file for reading\n",
    "open(\"random.txt\") do file\n",
    "    # Read whole file into a string\n",
    "    data = read(file, String)\n",
    "    println(data)\n",
    "end"
   ]
  },
  {
   "cell_type": "code",
   "execution_count": 79,
   "metadata": {},
   "outputs": [
    {
     "name": "stdout",
     "output_type": "stream",
     "text": [
      "Here is some random text\n",
      "It is great\n"
     ]
    }
   ],
   "source": [
    "open(\"random.txt\") do file\n",
    "    # Read each line 1 at a time\n",
    "    for line in eachline(file)\n",
    "        println(line)\n",
    "    end\n",
    "end"
   ]
  },
  {
   "cell_type": "markdown",
   "metadata": {},
   "source": [
    "#### Macros"
   ]
  },
  {
   "cell_type": "code",
   "execution_count": 39,
   "metadata": {},
   "outputs": [
    {
     "name": "stdout",
     "output_type": "stream",
     "text": [
      "Hello\n",
      "Hello\n",
      "1\n",
      "2\n",
      "3\n",
      "4\n",
      "5\n",
      "6\n",
      "7\n",
      "8\n",
      "9\n",
      "10\n"
     ]
    }
   ],
   "source": [
    "# Macros generate code before the program is run\n",
    " \n",
    "# Execute passed code a certain number of times\n",
    "macro doMore(n, exp)\n",
    "  quote\n",
    " \n",
    "      # esc hides what it contains until everything\n",
    "      # is ready to be executed\n",
    "    for i = 1:$(esc(n))\n",
    "      $(esc(exp))\n",
    "    end\n",
    "  end\n",
    "end\n",
    "\n",
    "@doMore(2, println(\"Hello\"))\n",
    " \n",
    "# Create a do while loop\n",
    "macro doWhile(exp)\n",
    "    # Assert that while is the first element passed\n",
    "  @assert exp.head == :while\n",
    " \n",
    "  # quote is the same as begin ... end\n",
    "  esc(quote\n",
    " \n",
    "  # Contains the body of the loop\n",
    "    $(exp.args[2])\n",
    "    $exp\n",
    "  end)\n",
    "end\n",
    "\n",
    "z = 0\n",
    "@doWhile while z < 10\n",
    "    global z += 1\n",
    "    println(z)\n",
    "end"
   ]
  },
  {
   "cell_type": "code",
   "execution_count": null,
   "metadata": {},
   "outputs": [],
   "source": []
  }
 ],
 "metadata": {
  "kernelspec": {
   "display_name": "Julia 1.1.0",
   "language": "julia",
   "name": "julia-1.1"
  },
  "language_info": {
   "file_extension": ".jl",
   "mimetype": "application/julia",
   "name": "julia",
   "version": "1.1.0"
  }
 },
 "nbformat": 4,
 "nbformat_minor": 2
}
